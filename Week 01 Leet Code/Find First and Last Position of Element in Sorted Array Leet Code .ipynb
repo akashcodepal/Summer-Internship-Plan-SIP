{
 "cells": [
  {
   "cell_type": "code",
   "execution_count": null,
   "metadata": {
    "scrolled": true
   },
   "outputs": [],
   "source": [
    "#  Find First and Last Position of Element in Sorted Array-> Problem of LeetCode\n",
    "class Solution:\n",
    "    def searchRange(self, nums: List[int], target: int) -> List[int]:\n",
    "        \n",
    "        low = 0 \n",
    "        high = len(nums)-1\n",
    "        \n",
    "        while low <= high :\n",
    "            mid = (high+low)//2\n",
    "            \n",
    "            if nums[mid] == target:\n",
    "                return mid\n",
    "            elif nums[mid] < target :\n",
    "                low = mid + 1\n",
    "            else :\n",
    "                high = mid + 1\n",
    "        return -1   \n"
   ]
  }
 ],
 "metadata": {
  "kernelspec": {
   "display_name": "Python 3",
   "language": "python",
   "name": "python3"
  },
  "language_info": {
   "codemirror_mode": {
    "name": "ipython",
    "version": 3
   },
   "file_extension": ".py",
   "mimetype": "text/x-python",
   "name": "python",
   "nbconvert_exporter": "python",
   "pygments_lexer": "ipython3",
   "version": "3.8.5"
  }
 },
 "nbformat": 4,
 "nbformat_minor": 4
}
