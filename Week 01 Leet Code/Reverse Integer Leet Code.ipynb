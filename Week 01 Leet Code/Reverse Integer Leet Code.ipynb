{
 "cells": [
  {
   "cell_type": "code",
   "execution_count": null,
   "metadata": {
    "scrolled": true
   },
   "outputs": [],
   "source": [
    "# Reverse Integer Problem of LeetCode\n",
    "class Solution:\n",
    "    def reverse(self, x: int) -> int:\n",
    "        rev = 0\n",
    "        if x > 0 :\n",
    "            while x != 0 :\n",
    "                rev = rev*10 + x%10\n",
    "                x = x // 10\n",
    "        else :\n",
    "            x = abs(x)\n",
    "            while x != 0 :\n",
    "                rev = rev*10 + x%10\n",
    "                x = x // 10\n",
    "            rev = -1 * rev\n",
    "            \n",
    "        max = 2 ** 31\n",
    "        min = -1 * max\n",
    "        if rev > max or rev < min:\n",
    "            return 0\n",
    "        return rev\n"
   ]
  }
 ],
 "metadata": {
  "kernelspec": {
   "display_name": "Python 3",
   "language": "python",
   "name": "python3"
  },
  "language_info": {
   "codemirror_mode": {
    "name": "ipython",
    "version": 3
   },
   "file_extension": ".py",
   "mimetype": "text/x-python",
   "name": "python",
   "nbconvert_exporter": "python",
   "pygments_lexer": "ipython3",
   "version": "3.8.5"
  }
 },
 "nbformat": 4,
 "nbformat_minor": 4
}
