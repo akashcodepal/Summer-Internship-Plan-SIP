{
 "cells": [
  {
   "cell_type": "code",
   "execution_count": null,
   "metadata": {
    "scrolled": true
   },
   "outputs": [],
   "source": [
    "# Median of 2 sorted arrays-> Problem of LeetCode\n",
    "class Solution:\n",
    "    \n",
    "    def findMedianSortedArrays(self, nums1: List[int], nums2: List[int]) -> float:\n",
    "        merged_arr = sorted(nums1+nums2)\n",
    "        length = len(merged_arr)\n",
    "        return merged_arr[length//2] if length%2 != 0 else (merged_arr[length//2]+merged_arr[(length//2)-1])/2\n"
   ]
  }
 ],
 "metadata": {
  "kernelspec": {
   "display_name": "Python 3",
   "language": "python",
   "name": "python3"
  },
  "language_info": {
   "codemirror_mode": {
    "name": "ipython",
    "version": 3
   },
   "file_extension": ".py",
   "mimetype": "text/x-python",
   "name": "python",
   "nbconvert_exporter": "python",
   "pygments_lexer": "ipython3",
   "version": "3.8.5"
  }
 },
 "nbformat": 4,
 "nbformat_minor": 4
}
