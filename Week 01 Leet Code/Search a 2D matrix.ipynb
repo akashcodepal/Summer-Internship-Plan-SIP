{
 "cells": [
  {
   "cell_type": "code",
   "execution_count": null,
   "metadata": {
    "scrolled": true
   },
   "outputs": [],
   "source": [
    "class Solution:\n",
    "    \n",
    "    def columnsearch(self,arr,target):\n",
    "        low , high = 0 , len(arr)-1\n",
    "        while low <= high :\n",
    "            mid = (low+high)//2\n",
    "            \n",
    "            if arr[mid] == target :\n",
    "                return True\n",
    "            elif arr[mid] > target :\n",
    "                high = mid - 1\n",
    "            elif arr[mid] < target :\n",
    "                low = mid + 1\n",
    "        return False        \n",
    "                \n",
    "        \n",
    "    def rowsearch(self,matrix,target):\n",
    "        low , high = 0 , len(matrix)-1\n",
    "        while low<= high :\n",
    "            mid = (low+high)//2\n",
    "            \n",
    "            if matrix[mid][0] == target :\n",
    "                return True\n",
    "            elif matrix[mid][0] > target and (mid==0 or matrix[mid-1][0] < target):\n",
    "                return self.columnsearch(matrix[mid-1][:],target)\n",
    "            elif matrix[mid][0] < target and (mid==len(matrix)-1 or matrix[mid+1][0] > target):\n",
    "                return self.columnsearch(matrix[mid][:],target)\n",
    "            elif matrix[mid][0] > target :\n",
    "                high = mid - 1\n",
    "            elif matrix[mid][0] < target :\n",
    "                low = mid + 1\n",
    "        return False        \n",
    "    \n",
    "    def searchMatrix(self, matrix: List[List[int]], target: int) -> bool:\n",
    "        return self.rowsearch(matrix,target)"
   ]
  }
 ],
 "metadata": {
  "kernelspec": {
   "display_name": "Python 3",
   "language": "python",
   "name": "python3"
  },
  "language_info": {
   "codemirror_mode": {
    "name": "ipython",
    "version": 3
   },
   "file_extension": ".py",
   "mimetype": "text/x-python",
   "name": "python",
   "nbconvert_exporter": "python",
   "pygments_lexer": "ipython3",
   "version": "3.8.5"
  }
 },
 "nbformat": 4,
 "nbformat_minor": 4
}
