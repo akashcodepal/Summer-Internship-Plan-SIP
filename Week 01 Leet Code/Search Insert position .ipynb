{
 "cells": [
  {
   "cell_type": "code",
   "execution_count": null,
   "metadata": {
    "scrolled": true
   },
   "outputs": [],
   "source": [
    "class Solution:\n",
    "    def searchInsert(self, nums: List[int], target: int) -> int:\n",
    "        lo , hi = 0 , len(nums)\n",
    "        while lo <= hi :\n",
    "            mid = (lo+hi)//2\n",
    "            \n",
    "            if nums[mid] == target :\n",
    "                return mid\n",
    "            elif nums[mid] < target and (mid == len(nums)-1 or nums[mid+1] > target):\n",
    "                return mid + 1\n",
    "            elif nums[mid] > target and (mid == 0 or nums[mid-1] < target) :\n",
    "                return mid\n",
    "            elif nums[mid] < target :\n",
    "                lo = mid + 1\n",
    "            elif nums[mid] > target :\n",
    "                hi = mid - 1\n",
    "                "
   ]
  }
 ],
 "metadata": {
  "kernelspec": {
   "display_name": "Python 3",
   "language": "python",
   "name": "python3"
  },
  "language_info": {
   "codemirror_mode": {
    "name": "ipython",
    "version": 3
   },
   "file_extension": ".py",
   "mimetype": "text/x-python",
   "name": "python",
   "nbconvert_exporter": "python",
   "pygments_lexer": "ipython3",
   "version": "3.8.5"
  }
 },
 "nbformat": 4,
 "nbformat_minor": 4
}
