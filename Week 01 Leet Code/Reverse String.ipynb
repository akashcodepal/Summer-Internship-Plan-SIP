{
 "cells": [
  {
   "cell_type": "code",
   "execution_count": null,
   "metadata": {
    "scrolled": true
   },
   "outputs": [],
   "source": [
    "class Solution:\n",
    "    def reverseString(self, s: List[str]) -> None:\n",
    "        # for i in range(0,len(s)//2):\n",
    "        #     s[i] , s[len(s)-1-i] = s[len(s)-1-i] , s[i] \n",
    "        # OR\n",
    "        lo , hi = 0 , len(s)-1\n",
    "        while lo <= hi :\n",
    "            s[lo],s[hi] = s[hi],s[lo]\n",
    "            lo += 1\n",
    "            hi -= 1 \n",
    "            \n",
    "        "
   ]
  }
 ],
 "metadata": {
  "kernelspec": {
   "display_name": "Python 3",
   "language": "python",
   "name": "python3"
  },
  "language_info": {
   "codemirror_mode": {
    "name": "ipython",
    "version": 3
   },
   "file_extension": ".py",
   "mimetype": "text/x-python",
   "name": "python",
   "nbconvert_exporter": "python",
   "pygments_lexer": "ipython3",
   "version": "3.8.5"
  }
 },
 "nbformat": 4,
 "nbformat_minor": 4
}
