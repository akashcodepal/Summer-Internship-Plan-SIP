{
 "cells": [
  {
   "cell_type": "code",
   "execution_count": null,
   "metadata": {
    "scrolled": true
   },
   "outputs": [],
   "source": [
    "# The isBadVersion API is already defined for you.\n",
    "# @param version, an integer\n",
    "# @return an integer\n",
    "# def isBadVersion(version):\n",
    "\n",
    "class Solution:\n",
    "    def firstBadVersion(self, n):\n",
    "        lo , hi = 1 , n\n",
    "        while lo <= hi :\n",
    "            mid = (lo+hi)//2\n",
    "            \n",
    "            if isBadVersion(mid) and (mid == 0 or not isBadVersion(mid-1)) :\n",
    "                return mid\n",
    "            elif not isBadVersion(mid) :\n",
    "                lo = mid + 1\n",
    "            elif isBadVersion(mid) and (mid == 0 or isBadVersion(mid-1)) :\n",
    "                hi = mid - 1\n",
    "                \n",
    "        "
   ]
  }
 ],
 "metadata": {
  "kernelspec": {
   "display_name": "Python 3",
   "language": "python",
   "name": "python3"
  },
  "language_info": {
   "codemirror_mode": {
    "name": "ipython",
    "version": 3
   },
   "file_extension": ".py",
   "mimetype": "text/x-python",
   "name": "python",
   "nbconvert_exporter": "python",
   "pygments_lexer": "ipython3",
   "version": "3.8.5"
  }
 },
 "nbformat": 4,
 "nbformat_minor": 4
}
